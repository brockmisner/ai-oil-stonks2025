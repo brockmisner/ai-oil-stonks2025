{
 "cells": [
  {
   "cell_type": "markdown",
   "id": "743066a2",
   "metadata": {},
   "source": [
    "# Per‑tank SAR Arc Profiles & Weekly Aggregates (Demo)\n",
    "\n",
    "This notebook gives you two things:\n",
    "\n",
    "1. **Visual sanity check** for the *SAR double‑bounce* feature extraction (synthetic example).\n",
    "2. **Per‑tank → site aggregate** for a chosen week using the synthetic pipeline outputs (or auto‑generates them if missing).\n",
    "\n",
    "> This runs fully offline on the scaffold — no downloads required. Replace the synthetic step with real Sentinel‑1 RTC and your tank catalog when ready.\n"
   ]
  },
  {
   "cell_type": "code",
   "execution_count": null,
   "id": "49d09d36",
   "metadata": {},
   "outputs": [],
   "source": [
    "# Imports\n",
    "import os, json, numpy as np, pandas as pd\n",
    "import matplotlib.pyplot as plt\n",
    "\n",
    "from src.features.sar_double_bounce import annulus_azimuth_profile, arc_features\n",
    "from pathlib import Path\n"
   ]
  },
  {
   "cell_type": "markdown",
   "id": "8af76bec",
   "metadata": {},
   "source": [
    "## 1) Synthetic SAR tank crop → azimuth profile"
   ]
  },
  {
   "cell_type": "code",
   "execution_count": null,
   "id": "6947c688",
   "metadata": {},
   "outputs": [],
   "source": [
    "# Create a synthetic circular tank with a bright arc near the rim\n",
    "radius_px = 50\n",
    "H = W = 2*radius_px + 20\n",
    "cx = cy = H//2\n",
    "\n",
    "y,x = np.indices((H,W))\n",
    "dist2 = (x-cx)**2 + (y-cy)**2\n",
    "img = np.random.normal(0.5, 0.10, size=(H,W)).astype(\"float32\")\n",
    "disk = dist2 <= radius_px**2\n",
    "img[~disk] = 0.0\n",
    "\n",
    "# Paint a bright arc centered at ~60°\n",
    "theta = (np.degrees(np.arctan2(-(y-cy), (x-cx))) + 360) % 360\n",
    "r_in = int(radius_px*0.8); r_out = int(radius_px*1.05)\n",
    "arc_mask = (dist2 >= r_in**2) & (dist2 <= r_out**2) & (np.abs(((theta - 60 + 180) % 360) - 180) < 25)\n",
    "img[arc_mask] += 0.5\n",
    "\n",
    "# Compute azimuth profile and features\n",
    "prof = annulus_azimuth_profile(img, cx, cy, r_px=radius_px, r_in_frac=0.7, r_out_frac=1.1, azimuth_bins=360)\n",
    "feats = arc_features(prof)\n",
    "feats\n"
   ]
  },
  {
   "cell_type": "code",
   "execution_count": null,
   "id": "29fcc978",
   "metadata": {},
   "outputs": [],
   "source": [
    "# Plot the synthetic azimuth profile\n",
    "plt.figure(figsize=(8,3))\n",
    "plt.plot(prof)\n",
    "plt.title(\"Azimuth profile (mean gamma0 by degree bin)\")\n",
    "plt.xlabel(\"Azimuth bin (deg)\")\n",
    "plt.ylabel(\"Mean\")\n",
    "plt.show()\n"
   ]
  },
  {
   "cell_type": "markdown",
   "id": "27e67caf",
   "metadata": {},
   "source": [
    "## 2) Weekly per‑tank features → volume & aggregate"
   ]
  },
  {
   "cell_type": "code",
   "execution_count": null,
   "id": "28ad41f4",
   "metadata": {},
   "outputs": [],
   "source": [
    "from src.pipelines.synthetic_week import generate_synthetic_features\n",
    "from src.models.calibration import apply_to_dataframe\n",
    "\n",
    "WEEK = \"2025-01-03\"\n",
    "features_path = Path(f\"outputs/{WEEK}/per_tank_features.csv\")\n",
    "tanks_path = Path(\"data/tanks/tanks_sample.geojson\")\n",
    "\n",
    "# Auto-generate if missing (synthetic)\n",
    "if not features_path.exists():\n",
    "    generate_synthetic_features(str(tanks_path), str(features_path), WEEK)\n",
    "\n",
    "df = pd.read_csv(features_path)\n",
    "df.head()\n"
   ]
  },
  {
   "cell_type": "code",
   "execution_count": null,
   "id": "67428dd3",
   "metadata": {},
   "outputs": [],
   "source": [
    "# Compute per-tank volume with a simple min-max calibration\n",
    "g = json.loads(Path(\"data/tanks/tanks_sample.geojson\").read_text())\n",
    "geom_df = pd.DataFrame([\n",
    "    {\"tank_id\": f[\"properties\"].get(\"id\", \"tank_unknown\"),\n",
    "     \"radius_m\": float(f[\"properties\"].get(\"radius_m\", 50.0))}\n",
    "    for f in g[\"features\"]\n",
    "])\n",
    "df = df.merge(geom_df, on=\"tank_id\", how=\"left\")\n",
    "\n",
    "df[\"diameter_m\"] = df[\"radius_m\"] * 2.0\n",
    "df[\"shell_height_m\"] = 18.0\n",
    "\n",
    "df_vol = apply_to_dataframe(df, index_col=\"peak_to_mean\", lo_col=\"lo\", hi_col=\"hi\",\n",
    "                            diameter_m_col=\"diameter_m\", shell_height_m_col=\"shell_height_m\",\n",
    "                            out_col=\"volume_bbl\")\n",
    "df_vol[[\"tank_id\",\"volume_bbl\"]]\n"
   ]
  },
  {
   "cell_type": "code",
   "execution_count": null,
   "id": "05ffee0d",
   "metadata": {},
   "outputs": [],
   "source": [
    "# Aggregate to a site total for the week\n",
    "total_bbl = df_vol[\"volume_bbl\"].sum()\n",
    "total_bbl"
   ]
  }
 ],
 "metadata": {},
 "nbformat": 4,
 "nbformat_minor": 5
}
